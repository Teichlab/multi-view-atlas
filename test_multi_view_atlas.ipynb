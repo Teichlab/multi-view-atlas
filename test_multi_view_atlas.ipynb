{
 "cells": [
  {
   "cell_type": "code",
   "execution_count": 1,
   "metadata": {},
   "outputs": [],
   "source": [
    "%load_ext autoreload\n",
    "%autoreload 2"
   ]
  },
  {
   "cell_type": "code",
   "execution_count": 2,
   "id": "geographic-invitation",
   "metadata": {},
   "outputs": [],
   "source": [
    "import mudata\n",
    "import anndata\n",
    "import scanpy as sc\n",
    "import pandas as pd\n",
    "import numpy as np\n",
    "\n",
    "from typing import List, Dict, Union"
   ]
  },
  {
   "cell_type": "code",
   "execution_count": 3,
   "id": "compact-venezuela",
   "metadata": {},
   "outputs": [],
   "source": [
    "adata = sc.datasets.pbmc3k_processed()\n",
    "# adata2 = sc.datasets.blobs(n_observations=10000, n_centers=12, n_variables=500)"
   ]
  },
  {
   "cell_type": "code",
   "execution_count": 4,
   "id": "golden-construction",
   "metadata": {},
   "outputs": [
    {
     "data": {
      "text/plain": [
       "AnnData object with n_obs × n_vars = 2638 × 1838\n",
       "    obs: 'n_genes', 'percent_mito', 'n_counts', 'louvain'\n",
       "    var: 'n_cells'\n",
       "    uns: 'draw_graph', 'louvain', 'louvain_colors', 'neighbors', 'pca', 'rank_genes_groups'\n",
       "    obsm: 'X_pca', 'X_tsne', 'X_umap', 'X_draw_graph_fr'\n",
       "    varm: 'PCs'\n",
       "    obsp: 'distances', 'connectivities'"
      ]
     },
     "execution_count": 4,
     "metadata": {},
     "output_type": "execute_result"
    }
   ],
   "source": [
    "adata"
   ]
  },
  {
   "cell_type": "code",
   "execution_count": 5,
   "id": "christian-tooth",
   "metadata": {},
   "outputs": [
    {
     "data": {
      "text/html": [
       "<div>\n",
       "<style scoped>\n",
       "    .dataframe tbody tr th:only-of-type {\n",
       "        vertical-align: middle;\n",
       "    }\n",
       "\n",
       "    .dataframe tbody tr th {\n",
       "        vertical-align: top;\n",
       "    }\n",
       "\n",
       "    .dataframe thead th {\n",
       "        text-align: right;\n",
       "    }\n",
       "</style>\n",
       "<table border=\"1\" class=\"dataframe\">\n",
       "  <thead>\n",
       "    <tr style=\"text-align: right;\">\n",
       "      <th></th>\n",
       "      <th>myeloid</th>\n",
       "      <th>lymphoid</th>\n",
       "      <th>NKT cells</th>\n",
       "      <th>T cells</th>\n",
       "      <th>B cells</th>\n",
       "    </tr>\n",
       "    <tr>\n",
       "      <th>index</th>\n",
       "      <th></th>\n",
       "      <th></th>\n",
       "      <th></th>\n",
       "      <th></th>\n",
       "      <th></th>\n",
       "    </tr>\n",
       "  </thead>\n",
       "  <tbody>\n",
       "    <tr>\n",
       "      <th>AAACATACAACCAC-1</th>\n",
       "      <td>0</td>\n",
       "      <td>1</td>\n",
       "      <td>1</td>\n",
       "      <td>1</td>\n",
       "      <td>0</td>\n",
       "    </tr>\n",
       "    <tr>\n",
       "      <th>AAACATTGAGCTAC-1</th>\n",
       "      <td>0</td>\n",
       "      <td>1</td>\n",
       "      <td>0</td>\n",
       "      <td>0</td>\n",
       "      <td>1</td>\n",
       "    </tr>\n",
       "    <tr>\n",
       "      <th>AAACATTGATCAGC-1</th>\n",
       "      <td>0</td>\n",
       "      <td>1</td>\n",
       "      <td>1</td>\n",
       "      <td>1</td>\n",
       "      <td>0</td>\n",
       "    </tr>\n",
       "    <tr>\n",
       "      <th>AAACCGTGCTTCCG-1</th>\n",
       "      <td>1</td>\n",
       "      <td>0</td>\n",
       "      <td>0</td>\n",
       "      <td>0</td>\n",
       "      <td>0</td>\n",
       "    </tr>\n",
       "    <tr>\n",
       "      <th>AAACCGTGTATGCG-1</th>\n",
       "      <td>0</td>\n",
       "      <td>1</td>\n",
       "      <td>1</td>\n",
       "      <td>0</td>\n",
       "      <td>0</td>\n",
       "    </tr>\n",
       "    <tr>\n",
       "      <th>...</th>\n",
       "      <td>...</td>\n",
       "      <td>...</td>\n",
       "      <td>...</td>\n",
       "      <td>...</td>\n",
       "      <td>...</td>\n",
       "    </tr>\n",
       "    <tr>\n",
       "      <th>TTTCGAACTCTCAT-1</th>\n",
       "      <td>1</td>\n",
       "      <td>0</td>\n",
       "      <td>0</td>\n",
       "      <td>0</td>\n",
       "      <td>0</td>\n",
       "    </tr>\n",
       "    <tr>\n",
       "      <th>TTTCTACTGAGGCA-1</th>\n",
       "      <td>0</td>\n",
       "      <td>1</td>\n",
       "      <td>0</td>\n",
       "      <td>0</td>\n",
       "      <td>1</td>\n",
       "    </tr>\n",
       "    <tr>\n",
       "      <th>TTTCTACTTCCTCG-1</th>\n",
       "      <td>0</td>\n",
       "      <td>1</td>\n",
       "      <td>0</td>\n",
       "      <td>0</td>\n",
       "      <td>1</td>\n",
       "    </tr>\n",
       "    <tr>\n",
       "      <th>TTTGCATGAGAGGC-1</th>\n",
       "      <td>0</td>\n",
       "      <td>1</td>\n",
       "      <td>0</td>\n",
       "      <td>0</td>\n",
       "      <td>1</td>\n",
       "    </tr>\n",
       "    <tr>\n",
       "      <th>TTTGCATGCCTCAC-1</th>\n",
       "      <td>0</td>\n",
       "      <td>1</td>\n",
       "      <td>1</td>\n",
       "      <td>1</td>\n",
       "      <td>0</td>\n",
       "    </tr>\n",
       "  </tbody>\n",
       "</table>\n",
       "<p>2638 rows × 5 columns</p>\n",
       "</div>"
      ],
      "text/plain": [
       "                  myeloid  lymphoid  NKT cells  T cells  B cells\n",
       "index                                                           \n",
       "AAACATACAACCAC-1        0         1          1        1        0\n",
       "AAACATTGAGCTAC-1        0         1          0        0        1\n",
       "AAACATTGATCAGC-1        0         1          1        1        0\n",
       "AAACCGTGCTTCCG-1        1         0          0        0        0\n",
       "AAACCGTGTATGCG-1        0         1          1        0        0\n",
       "...                   ...       ...        ...      ...      ...\n",
       "TTTCGAACTCTCAT-1        1         0          0        0        0\n",
       "TTTCTACTGAGGCA-1        0         1          0        0        1\n",
       "TTTCTACTTCCTCG-1        0         1          0        0        1\n",
       "TTTGCATGAGAGGC-1        0         1          0        0        1\n",
       "TTTGCATGCCTCAC-1        0         1          1        1        0\n",
       "\n",
       "[2638 rows x 5 columns]"
      ]
     },
     "execution_count": 5,
     "metadata": {},
     "output_type": "execute_result"
    }
   ],
   "source": [
    "## Make DataFrame assigning cells to views\n",
    "assign_dict = {\n",
    "    'myeloid':['CD14+ Monocytes', 'FCGR3A+ Monocytes', 'Dendritic cells', 'Megakaryocytes'],\n",
    "    'lymphoid':['NK cells', \"CD8 T cells\", 'CD4 T cells', 'B cells'],\n",
    "    'NKT cells':['NK cells', \"CD8 T cells\", 'CD4 T cells'],\n",
    "    'T cells':[\"CD8 T cells\", 'CD4 T cells'],\n",
    "    'B cells':['B cells']\n",
    "}\n",
    "annotation_col = 'louvain'\n",
    "\n",
    "# for k in assign_dict.keys():\n",
    "assign_tab = np.vstack([np.where(adata.obs[annotation_col].isin(assign_dict[k]), 1, 0) for k in assign_dict.keys()]).T\n",
    "assign_tab = pd.DataFrame(assign_tab, columns = assign_dict.keys(), index = adata.obs_names)\n",
    "assign_tab"
   ]
  },
  {
   "cell_type": "code",
   "execution_count": 6,
   "id": "residential-dress",
   "metadata": {},
   "outputs": [],
   "source": [
    "## Make dictionary of parent-child structure of views\n",
    "view_hierarchy = {\n",
    "    'myeloid':None,\n",
    "    'lymphoid':{\n",
    "        \"NKT cells\":{\n",
    "            'T cells':None\n",
    "        },\n",
    "        \"B cells\":None}\n",
    "}"
   ]
  },
  {
   "cell_type": "code",
   "execution_count": 7,
   "id": "positive-draft",
   "metadata": {},
   "outputs": [],
   "source": [
    "# ## small tests\n",
    "# broken_assign_tab = assign_tab.copy()\n",
    "# broken_assign_tab['T cells'] = broken_assign_tab['T cells'].sample(frac=1).values\n",
    "# _clean_view_assingment(broken_assign_tab, view_hierarchy)\n",
    "\n",
    "# assign_tab['ciaone'] = broken_assign_tab['T cells'].sample(frac=1).values\n",
    "# _clean_view_assingment(assign_tab, view_hierarchy)"
   ]
  },
  {
   "cell_type": "markdown",
   "id": "abstract-bleeding",
   "metadata": {},
   "source": [
    "### Make MuData of hierarchical structure"
   ]
  },
  {
   "cell_type": "code",
   "execution_count": 192,
   "id": "2d4154a9",
   "metadata": {},
   "outputs": [],
   "source": [
    "import multi_view_atlas as mva"
   ]
  },
  {
   "cell_type": "code",
   "execution_count": 193,
   "id": "1f68ba6f",
   "metadata": {},
   "outputs": [
    {
     "data": {
      "text/plain": [
       "MultiViewAtlas object with view hierarchy:\n",
       "\tlymphoid:\n",
       "\t  B cells: null\n",
       "\t  NKT cells:\n",
       "\t    T cells: null\n",
       "\tmyeloid: null\n",
       "\t\n",
       "MuData object with n_obs × n_vars = 2638 × 1838\n",
       "  obsm:\t'view_assign'\n",
       "  6 modalities\n",
       "    full:\t2638 x 1838\n",
       "      obs:\t'n_genes', 'percent_mito', 'n_counts', 'louvain'\n",
       "      var:\t'n_cells'\n",
       "      uns:\t'draw_graph', 'louvain', 'louvain_colors', 'neighbors', 'pca', 'rank_genes_groups', 'view_hierarchy'\n",
       "      obsm:\t'X_pca', 'X_tsne', 'X_umap', 'X_draw_graph_fr', 'view_assign'\n",
       "      varm:\t'PCs'\n",
       "      obsp:\t'distances', 'connectivities'\n",
       "    myeloid:\t682 x 0\n",
       "      obs:\t'n_genes', 'percent_mito', 'n_counts', 'louvain'\n",
       "      obsm:\t'X_pca', 'X_tsne', 'X_umap', 'X_draw_graph_fr', 'view_assign'\n",
       "    lymphoid:\t1956 x 0\n",
       "      obs:\t'n_genes', 'percent_mito', 'n_counts', 'louvain'\n",
       "      obsm:\t'X_pca', 'X_tsne', 'X_umap', 'X_draw_graph_fr', 'view_assign'\n",
       "    NKT cells:\t1614 x 0\n",
       "      obs:\t'n_genes', 'percent_mito', 'n_counts', 'louvain'\n",
       "      obsm:\t'X_pca', 'X_tsne', 'X_umap', 'X_draw_graph_fr', 'view_assign'\n",
       "    T cells:\t1460 x 0\n",
       "      obs:\t'n_genes', 'percent_mito', 'n_counts', 'louvain'\n",
       "      obsm:\t'X_pca', 'X_tsne', 'X_umap', 'X_draw_graph_fr', 'view_assign'\n",
       "    B cells:\t342 x 0\n",
       "      obs:\t'n_genes', 'percent_mito', 'n_counts', 'louvain'\n",
       "      obsm:\t'X_pca', 'X_tsne', 'X_umap', 'X_draw_graph_fr', 'view_assign'"
      ]
     },
     "execution_count": 193,
     "metadata": {},
     "output_type": "execute_result"
    }
   ],
   "source": [
    "mva.tl.MultiViewAtlas(mdata)"
   ]
  },
  {
   "cell_type": "code",
   "execution_count": 158,
   "id": "81ff7bb0",
   "metadata": {},
   "outputs": [
    {
     "data": {
      "text/plain": [
       "{'myeloid': None,\n",
       " 'lymphoid': {'NKT cells': {'T cells': None}, 'B cells': None}}"
      ]
     },
     "execution_count": 158,
     "metadata": {},
     "output_type": "execute_result"
    }
   ],
   "source": [
    "mvatlas['full'].uns['view_hierarchy'] "
   ]
  },
  {
   "cell_type": "code",
   "execution_count": 159,
   "id": "killing-kazakhstan",
   "metadata": {},
   "outputs": [
    {
     "name": "stderr",
     "output_type": "stream",
     "text": [
      "/home/jovyan/my-conda-envs/patho-signatures-2/lib/python3.9/site-packages/mudata/_core/mudata.py:569: FutureWarning: In a future version, `df.iloc[:, i] = newvals` will attempt to set the values inplace instead of always setting a new array. To retain the old behavior, use either `df[df.columns[i]] = newvals` or, if columns are non-unique, `df.isetitem(i, newvals)`\n",
      "  data_mod.loc[:, colname] = col\n",
      "/home/jovyan/my-conda-envs/patho-signatures-2/lib/python3.9/site-packages/mudata/_core/mudata.py:569: FutureWarning: In a future version, `df.iloc[:, i] = newvals` will attempt to set the values inplace instead of always setting a new array. To retain the old behavior, use either `df[df.columns[i]] = newvals` or, if columns are non-unique, `df.isetitem(i, newvals)`\n",
      "  data_mod.loc[:, colname] = col\n"
     ]
    },
    {
     "data": {
      "text/plain": [
       "MultiViewAtlas object with view hierarchy:\n",
       "\tlymphoid:\n",
       "\t  B cells: null\n",
       "\t  NKT cells:\n",
       "\t    T cells: null\n",
       "\tmyeloid: null\n",
       "\tMuData object with n_obs × n_vars = 2638 × 1838\n",
       "  6 modalities\n",
       "    full:\t2638 x 1838\n",
       "      obs:\t'n_genes', 'percent_mito', 'n_counts', 'louvain'\n",
       "      var:\t'n_cells'\n",
       "      uns:\t'draw_graph', 'louvain', 'louvain_colors', 'neighbors', 'pca', 'rank_genes_groups', 'view_hierarchy'\n",
       "      obsm:\t'X_pca', 'X_tsne', 'X_umap', 'X_draw_graph_fr', 'view_assign'\n",
       "      varm:\t'PCs'\n",
       "      obsp:\t'distances', 'connectivities'\n",
       "    myeloid:\t682 x 0\n",
       "      obs:\t'n_genes', 'percent_mito', 'n_counts', 'louvain'\n",
       "      obsm:\t'X_pca', 'X_tsne', 'X_umap', 'X_draw_graph_fr', 'view_assign'\n",
       "    lymphoid:\t1956 x 0\n",
       "      obs:\t'n_genes', 'percent_mito', 'n_counts', 'louvain'\n",
       "      obsm:\t'X_pca', 'X_tsne', 'X_umap', 'X_draw_graph_fr', 'view_assign'\n",
       "    NKT cells:\t1614 x 0\n",
       "      obs:\t'n_genes', 'percent_mito', 'n_counts', 'louvain'\n",
       "      obsm:\t'X_pca', 'X_tsne', 'X_umap', 'X_draw_graph_fr', 'view_assign'\n",
       "    T cells:\t1460 x 0\n",
       "      obs:\t'n_genes', 'percent_mito', 'n_counts', 'louvain'\n",
       "      obsm:\t'X_pca', 'X_tsne', 'X_umap', 'X_draw_graph_fr', 'view_assign'\n",
       "    B cells:\t342 x 0\n",
       "      obs:\t'n_genes', 'percent_mito', 'n_counts', 'louvain'\n",
       "      obsm:\t'X_pca', 'X_tsne', 'X_umap', 'X_draw_graph_fr', 'view_assign'"
      ]
     },
     "execution_count": 159,
     "metadata": {},
     "output_type": "execute_result"
    }
   ],
   "source": [
    "adata.obsm['view_assign'] = assign_tab.copy()\n",
    "adata.uns['view_hierarchy'] = view_hierarchy.copy()\n",
    "\n",
    "mvatlas = mva.tl.MultiViewAtlas(adata)\n",
    "mvatlas\n",
    "    # [np.where(np.array(s.split('.')) == v)[0][0]  if v in s]"
   ]
  },
  {
   "cell_type": "code",
   "execution_count": 171,
   "id": "fa03c379",
   "metadata": {},
   "outputs": [
    {
     "name": "stderr",
     "output_type": "stream",
     "text": [
      "/home/jovyan/my-conda-envs/patho-signatures-2/lib/python3.9/site-packages/mudata/_core/mudata.py:569: FutureWarning: In a future version, `df.iloc[:, i] = newvals` will attempt to set the values inplace instead of always setting a new array. To retain the old behavior, use either `df[df.columns[i]] = newvals` or, if columns are non-unique, `df.isetitem(i, newvals)`\n",
      "  data_mod.loc[:, colname] = col\n",
      "/home/jovyan/my-conda-envs/patho-signatures-2/lib/python3.9/site-packages/mudata/_core/mudata.py:569: FutureWarning: In a future version, `df.iloc[:, i] = newvals` will attempt to set the values inplace instead of always setting a new array. To retain the old behavior, use either `df[df.columns[i]] = newvals` or, if columns are non-unique, `df.isetitem(i, newvals)`\n",
      "  data_mod.loc[:, colname] = col\n"
     ]
    },
    {
     "ename": "NameError",
     "evalue": "name '_clean_view_assignment' is not defined",
     "output_type": "error",
     "traceback": [
      "\u001b[0;31m---------------------------------------------------------------------------\u001b[0m",
      "\u001b[0;31mNameError\u001b[0m                                 Traceback (most recent call last)",
      "Cell \u001b[0;32mIn [171], line 10\u001b[0m\n\u001b[1;32m      7\u001b[0m     \u001b[38;5;28;01mexcept\u001b[39;00m:\n\u001b[1;32m      8\u001b[0m         \u001b[38;5;28;01mraise\u001b[39;00m \u001b[38;5;167;01mValueError\u001b[39;00m(\u001b[38;5;124m\"\u001b[39m\u001b[38;5;124mmdata must contain dictionary of view hierarchy in uns[\u001b[39m\u001b[38;5;124m'\u001b[39m\u001b[38;5;124mview_hierarchy\u001b[39m\u001b[38;5;124m'\u001b[39m\u001b[38;5;124m]\u001b[39m\u001b[38;5;124m\"\u001b[39m)\n\u001b[0;32m---> 10\u001b[0m \u001b[43m_clean_view_assignment\u001b[49m(mdata[\u001b[38;5;124m'\u001b[39m\u001b[38;5;124mfull\u001b[39m\u001b[38;5;124m'\u001b[39m])\n",
      "\u001b[0;31mNameError\u001b[0m: name '_clean_view_assignment' is not defined"
     ]
    }
   ],
   "source": [
    "mdata = mvatlas.mdata.copy()\n",
    "# mdata = data\n",
    "assert 'full' in mdata.mod.keys()\n",
    "if 'view_hierarchy' not in mdata.uns:\n",
    "    try:\n",
    "        mdata.uns['view_hierarchy'] = mdata['full'].uns['view_hierarchy']\n",
    "    except:\n",
    "        raise ValueError(\"mdata must contain dictionary of view hierarchy in uns['view_hierarchy']\")\n",
    "\n",
    "_clean_view_assignment(mdata['full'])\n",
    "\n",
    "\n"
   ]
  },
  {
   "cell_type": "code",
   "execution_count": 183,
   "id": "ae80927b",
   "metadata": {},
   "outputs": [],
   "source": [
    "# {k:v.obs_names.isin(mdata['full'].obs_names).astype('int') for k,v in mdata.mod.items()}"
   ]
  },
  {
   "cell_type": "code",
   "execution_count": 185,
   "id": "83f092e9",
   "metadata": {},
   "outputs": [
    {
     "data": {
      "text/html": [
       "<div>\n",
       "<style scoped>\n",
       "    .dataframe tbody tr th:only-of-type {\n",
       "        vertical-align: middle;\n",
       "    }\n",
       "\n",
       "    .dataframe tbody tr th {\n",
       "        vertical-align: top;\n",
       "    }\n",
       "\n",
       "    .dataframe thead th {\n",
       "        text-align: right;\n",
       "    }\n",
       "</style>\n",
       "<table border=\"1\" class=\"dataframe\">\n",
       "  <thead>\n",
       "    <tr style=\"text-align: right;\">\n",
       "      <th></th>\n",
       "      <th>myeloid</th>\n",
       "      <th>lymphoid</th>\n",
       "      <th>NKT cells</th>\n",
       "      <th>T cells</th>\n",
       "      <th>B cells</th>\n",
       "    </tr>\n",
       "    <tr>\n",
       "      <th>index</th>\n",
       "      <th></th>\n",
       "      <th></th>\n",
       "      <th></th>\n",
       "      <th></th>\n",
       "      <th></th>\n",
       "    </tr>\n",
       "  </thead>\n",
       "  <tbody>\n",
       "    <tr>\n",
       "      <th>AAACATACAACCAC-1</th>\n",
       "      <td>0</td>\n",
       "      <td>1</td>\n",
       "      <td>1</td>\n",
       "      <td>1</td>\n",
       "      <td>0</td>\n",
       "    </tr>\n",
       "    <tr>\n",
       "      <th>AAACATTGAGCTAC-1</th>\n",
       "      <td>0</td>\n",
       "      <td>1</td>\n",
       "      <td>0</td>\n",
       "      <td>0</td>\n",
       "      <td>1</td>\n",
       "    </tr>\n",
       "    <tr>\n",
       "      <th>AAACATTGATCAGC-1</th>\n",
       "      <td>0</td>\n",
       "      <td>1</td>\n",
       "      <td>1</td>\n",
       "      <td>1</td>\n",
       "      <td>0</td>\n",
       "    </tr>\n",
       "    <tr>\n",
       "      <th>AAACCGTGCTTCCG-1</th>\n",
       "      <td>1</td>\n",
       "      <td>0</td>\n",
       "      <td>0</td>\n",
       "      <td>0</td>\n",
       "      <td>0</td>\n",
       "    </tr>\n",
       "    <tr>\n",
       "      <th>AAACCGTGTATGCG-1</th>\n",
       "      <td>0</td>\n",
       "      <td>1</td>\n",
       "      <td>1</td>\n",
       "      <td>0</td>\n",
       "      <td>0</td>\n",
       "    </tr>\n",
       "    <tr>\n",
       "      <th>...</th>\n",
       "      <td>...</td>\n",
       "      <td>...</td>\n",
       "      <td>...</td>\n",
       "      <td>...</td>\n",
       "      <td>...</td>\n",
       "    </tr>\n",
       "    <tr>\n",
       "      <th>TTTCGAACTCTCAT-1</th>\n",
       "      <td>1</td>\n",
       "      <td>0</td>\n",
       "      <td>0</td>\n",
       "      <td>0</td>\n",
       "      <td>0</td>\n",
       "    </tr>\n",
       "    <tr>\n",
       "      <th>TTTCTACTGAGGCA-1</th>\n",
       "      <td>0</td>\n",
       "      <td>1</td>\n",
       "      <td>0</td>\n",
       "      <td>0</td>\n",
       "      <td>1</td>\n",
       "    </tr>\n",
       "    <tr>\n",
       "      <th>TTTCTACTTCCTCG-1</th>\n",
       "      <td>0</td>\n",
       "      <td>1</td>\n",
       "      <td>0</td>\n",
       "      <td>0</td>\n",
       "      <td>1</td>\n",
       "    </tr>\n",
       "    <tr>\n",
       "      <th>TTTGCATGAGAGGC-1</th>\n",
       "      <td>0</td>\n",
       "      <td>1</td>\n",
       "      <td>0</td>\n",
       "      <td>0</td>\n",
       "      <td>1</td>\n",
       "    </tr>\n",
       "    <tr>\n",
       "      <th>TTTGCATGCCTCAC-1</th>\n",
       "      <td>0</td>\n",
       "      <td>1</td>\n",
       "      <td>1</td>\n",
       "      <td>1</td>\n",
       "      <td>0</td>\n",
       "    </tr>\n",
       "  </tbody>\n",
       "</table>\n",
       "<p>2638 rows × 5 columns</p>\n",
       "</div>"
      ],
      "text/plain": [
       "                  myeloid  lymphoid  NKT cells  T cells  B cells\n",
       "index                                                           \n",
       "AAACATACAACCAC-1        0         1          1        1        0\n",
       "AAACATTGAGCTAC-1        0         1          0        0        1\n",
       "AAACATTGATCAGC-1        0         1          1        1        0\n",
       "AAACCGTGCTTCCG-1        1         0          0        0        0\n",
       "AAACCGTGTATGCG-1        0         1          1        0        0\n",
       "...                   ...       ...        ...      ...      ...\n",
       "TTTCGAACTCTCAT-1        1         0          0        0        0\n",
       "TTTCTACTGAGGCA-1        0         1          0        0        1\n",
       "TTTCTACTTCCTCG-1        0         1          0        0        1\n",
       "TTTGCATGAGAGGC-1        0         1          0        0        1\n",
       "TTTGCATGCCTCAC-1        0         1          1        1        0\n",
       "\n",
       "[2638 rows x 5 columns]"
      ]
     },
     "execution_count": 185,
     "metadata": {},
     "output_type": "execute_result"
    }
   ],
   "source": [
    "view_assign.astype('int')"
   ]
  },
  {
   "cell_type": "code",
   "execution_count": 163,
   "id": "12bb7ab0",
   "metadata": {},
   "outputs": [],
   "source": [
    "import matplotlib.pyplot as plt\n",
    "from multi_view_atlas.utils import get_parent_view\n",
    "from multi_view_atlas.tl import MultiViewAtlas\n",
    "from mudata import MuData\n",
    "\n",
    "def multiview_embedding(\n",
    "    mdata: Union[MultiViewAtlas, MuData], \n",
    "    view: str, \n",
    "    basis: str = 'X_umap', \n",
    "    color: str ='louvain',\n",
    "    fig_height: float = 6,\n",
    "    **kwargs):\n",
    "    '''\n",
    "    Plot embedding in multiview mode\n",
    "    '''\n",
    "\n",
    "    ## Get and order views to plot\n",
    "    pl_views = []\n",
    "    curr_view = view\n",
    "    while curr_view is not None:\n",
    "        pl_views.append(curr_view)\n",
    "        curr_view = get_parent_view(curr_view, mdata['full'].uns['view_hierarchy'])\n",
    "\n",
    "    pl_views.append('full')\n",
    "    pl_views = pl_views[::-1]\n",
    "\n",
    "    fig, ax = plt.subplots(1,len(pl_views), figsize=(fig_height*len(pl_views), fig_height))\n",
    "    for i,v in enumerate(pl_views):\n",
    "        if v == pl_views[-1]: \n",
    "            sc.pl.embedding(mdata[v], basis=basis, title=f'{v} view', color='louvain', \n",
    "                ax=ax[i], show=False, **kwargs)\n",
    "        else:\n",
    "            adata_pl = mdata[v].copy()\n",
    "            adata_pl.obs['view_color'] = np.nan\n",
    "            adata_pl.obs.loc[mdata[view].obs_names, 'view_color'] = adata_pl.obs.loc[mdata[view].obs_names, color]\n",
    "            sc.pl.embedding(adata_pl, basis=basis, title=f'{v} view', color='view_color',\n",
    "                legend_loc=None, \n",
    "                ax=ax[i], show=False, **kwargs)\n",
    "\n",
    "    plt.tight_layout(pad=3.0)\n",
    "    plt.show()"
   ]
  },
  {
   "cell_type": "code",
   "execution_count": 164,
   "id": "0587dab5",
   "metadata": {},
   "outputs": [
    {
     "name": "stderr",
     "output_type": "stream",
     "text": [
      "/home/jovyan/my-conda-envs/patho-signatures-2/lib/python3.9/site-packages/scanpy/plotting/_tools/scatterplots.py:392: UserWarning: No data for colormapping provided via 'c'. Parameters 'cmap' will be ignored\n",
      "  cax = scatter(\n",
      "/home/jovyan/my-conda-envs/patho-signatures-2/lib/python3.9/site-packages/scanpy/plotting/_tools/scatterplots.py:392: UserWarning: No data for colormapping provided via 'c'. Parameters 'cmap' will be ignored\n",
      "  cax = scatter(\n"
     ]
    },
    {
     "data": {
      "image/png": "[encoded data removed]",
      "text/plain": [
       "<Figure size 1200x600 with 2 Axes>"
      ]
     },
     "metadata": {},
     "output_type": "display_data"
    }
   ],
   "source": [
    "multiview_embedding(mvatlas, view='myeloid', color='louvain')"
   ]
  },
  {
   "cell_type": "code",
   "execution_count": null,
   "id": "91df0075",
   "metadata": {},
   "outputs": [],
   "source": [
    "def get_view_adata(mdata, view) -> AnnData:\n",
    "    '''Getter from multi-view atlas.\n",
    "\n",
    "    Returns:\n",
    "    --------\n",
    "    adata: AnnData\n",
    "        anndata object for single view, with adata.X and adata.var taken from the full view\n",
    "    '''\n",
    "    mdata['']\n",
    "\n",
    "    "
   ]
  },
  {
   "cell_type": "code",
   "execution_count": 154,
   "id": "referenced-xerox",
   "metadata": {},
   "outputs": [],
   "source": [
    "v = 'NKT cells'\n",
    "view_str = pd.json_normalize(view_hierarchy).columns.tolist()\n",
    "for s in view_str:\n",
    "    view_hierarchy = np.array(s.split('.'))\n",
    "    parent_view = [view_hierarchy[i-1] for i,v1 in enumerate(view_hierarchy) if v == v1]"
   ]
  },
  {
   "cell_type": "code",
   "execution_count": 156,
   "id": "severe-amino",
   "metadata": {},
   "outputs": [
    {
     "data": {
      "text/plain": [
       "array(['lymphoid', 'B cells'], dtype='<U8')"
      ]
     },
     "execution_count": 156,
     "metadata": {},
     "output_type": "execute_result"
    }
   ],
   "source": [
    "view_hierarchy"
   ]
  },
  {
   "cell_type": "code",
   "execution_count": 141,
   "id": "considerable-mobile",
   "metadata": {},
   "outputs": [
    {
     "data": {
      "text/plain": [
       "2"
      ]
     },
     "execution_count": 141,
     "metadata": {},
     "output_type": "execute_result"
    }
   ],
   "source": [
    "len(view_hierarchy)"
   ]
  },
  {
   "cell_type": "code",
   "execution_count": null,
   "id": "first-manhattan",
   "metadata": {},
   "outputs": [],
   "source": []
  }
 ],
 "metadata": {
  "kernelspec": {
   "display_name": "patho-signatures-2",
   "language": "python",
   "name": "patho-signatures-2"
  },
  "language_info": {
   "codemirror_mode": {
    "name": "ipython",
    "version": 3
   },
   "file_extension": ".py",
   "mimetype": "text/x-python",
   "name": "python",
   "nbconvert_exporter": "python",
   "pygments_lexer": "ipython3",
   "version": "3.9.13"
  }
 },
 "nbformat": 4,
 "nbformat_minor": 5
}
